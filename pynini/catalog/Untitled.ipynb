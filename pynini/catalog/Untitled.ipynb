{
 "cells": [
  {
   "cell_type": "code",
   "execution_count": 15,
   "metadata": {},
   "outputs": [],
   "source": [
    "import json\n",
    "with open(\"catalog.json\", 'r') as f:\n",
    "    catalog = json.load(f)"
   ]
  },
  {
   "cell_type": "code",
   "execution_count": 16,
   "metadata": {},
   "outputs": [],
   "source": [
    "new_device_info = {\n",
    "    \"ip\": \"192.168.178.200\",\n",
    "    \"last_seen\": 0,\n",
    "    \"name\": \"co2\",\n",
    "    \"port\": 8080,\n",
    "    \"dev_name\": \"arduino\"\n",
    "}"
   ]
  },
  {
   "cell_type": "code",
   "execution_count": 17,
   "metadata": {},
   "outputs": [],
   "source": [
    "ip = new_device_info['ip']\n",
    "port = new_device_info['port']\n",
    "name = new_device_info['name'] # temp, hum, co2\n",
    "last_seen = new_device_info['last_seen']\n",
    "dev_name = new_device_info['dev_name']"
   ]
  },
  {
   "cell_type": "code",
   "execution_count": 18,
   "metadata": {},
   "outputs": [],
   "source": [
    "new_dev = {'ip': ip, 'port': port, 'name': name,\n",
    "           'last_seen': last_seen}"
   ]
  },
  {
   "cell_type": "code",
   "execution_count": 19,
   "metadata": {},
   "outputs": [
    {
     "data": {
      "text/plain": [
       "{'ip': '192.168.178.200', 'port': 8080, 'name': 'co2', 'last_seen': 0}"
      ]
     },
     "execution_count": 19,
     "metadata": {},
     "output_type": "execute_result"
    }
   ],
   "source": [
    "new_dev"
   ]
  },
  {
   "cell_type": "code",
   "execution_count": 20,
   "metadata": {},
   "outputs": [],
   "source": [
    "for d in catalog['devices'][dev_name]['sensors']:\n",
    "    if d['name'] == name:\n",
    "        catalog['devices'][dev_name]['sensors'].pop(catalog['devices'][dev_name]['sensors'].index(d))\n",
    "\n",
    "catalog['devices'][dev_name]['sensors'].append(new_dev)\n"
   ]
  },
  {
   "cell_type": "code",
   "execution_count": 21,
   "metadata": {},
   "outputs": [
    {
     "data": {
      "text/plain": [
       "{'sensors': [{'ip': '192.168.178.200',\n",
       "   'last_seen': 0,\n",
       "   'name': 'temperature',\n",
       "   'port': 8080},\n",
       "  {'ip': '192.168.178.200', 'port': 8080, 'name': 'co2', 'last_seen': 0}]}"
      ]
     },
     "execution_count": 21,
     "metadata": {},
     "output_type": "execute_result"
    }
   ],
   "source": [
    "catalog['devices'][dev_name]"
   ]
  },
  {
   "cell_type": "code",
   "execution_count": null,
   "metadata": {},
   "outputs": [],
   "source": []
  }
 ],
 "metadata": {
  "kernelspec": {
   "display_name": "Python 3",
   "language": "python",
   "name": "python3"
  },
  "language_info": {
   "codemirror_mode": {
    "name": "ipython",
    "version": 3
   },
   "file_extension": ".py",
   "mimetype": "text/x-python",
   "name": "python",
   "nbconvert_exporter": "python",
   "pygments_lexer": "ipython3",
   "version": "3.8.3"
  }
 },
 "nbformat": 4,
 "nbformat_minor": 4
}
